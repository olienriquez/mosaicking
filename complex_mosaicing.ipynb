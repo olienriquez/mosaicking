{
 "cells": [
  {
   "cell_type": "markdown",
   "metadata": {},
   "source": [
    "# Complex Mosaicing\n",
    "\n",
    "\n",
    "Optimizes the image coverage search to avoid scene overlaps. Only downloads the neccessary parts.\n",
    "\n",
    "Download the overlap area, and each unique area. Each in one job. For the overlap area the scene with the lowest cloudcover."
   ]
  },
  {
   "cell_type": "code",
   "execution_count": null,
   "metadata": {},
   "outputs": [],
   "source": [
    "%load_ext autoreload\n",
    "%autoreload 2\n",
    "\n",
    "from pathlib import Path\n",
    "import copy\n",
    "\n",
    "%matplotlib inline\n",
    "import matplotlib.pyplot as plt\n",
    "import pandas as pd\n",
    "import geopandas as gpd\n",
    "import rasterio\n",
    "from rasterio.merge import merge\n",
    "from rasterio.plot import show\n",
    "\n",
    "import up42\n",
    "\n",
    "from utils.geo import buffer_meter, add_area_in_sqkm, explode_mp, get_best_sections_full_coverage"
   ]
  },
  {
   "cell_type": "markdown",
   "metadata": {},
   "source": [
    "## Define aoi"
   ]
  },
  {
   "cell_type": "code",
   "execution_count": null,
   "metadata": {},
   "outputs": [],
   "source": [
    "# Catalog currently only works with account authentification!\n",
    "api = up42.authenticate(cfg_file=\"config.json\", env=\"dev\")"
   ]
  },
  {
   "cell_type": "code",
   "execution_count": null,
   "metadata": {},
   "outputs": [],
   "source": [
    "outdir = Path.cwd() / \"dakar_complex_pleiades_fullscene\"\n",
    "outdir.mkdir(parents=True, exist_ok=True)"
   ]
  },
  {
   "cell_type": "code",
   "execution_count": null,
   "metadata": {},
   "outputs": [],
   "source": [
    "aoi = up42.read_vector_file(\"aois/dakar.geojson\", as_dataframe=True)\n",
    "display(aoi)\n",
    "aoi.plot()"
   ]
  },
  {
   "cell_type": "markdown",
   "metadata": {},
   "source": [
    "## Search available images"
   ]
  },
  {
   "cell_type": "code",
   "execution_count": null,
   "metadata": {},
   "outputs": [],
   "source": [
    "catalog = up42.initialize_catalog()\n",
    "search_paramaters = catalog.construct_parameters(geometry=aoi, \n",
    "                                                 start_date=\"2018-08-02\",\n",
    "                                                 end_date=\"2020-08-09\",\n",
    "                                                 sensors=[\"pleiades\"],\n",
    "                                                 max_cloudcover=20,\n",
    "                                                 sortby=\"cloudCoverage\", \n",
    "                                                 limit=10)\n",
    "#search_paramaters"
   ]
  },
  {
   "cell_type": "code",
   "execution_count": null,
   "metadata": {},
   "outputs": [],
   "source": [
    "# Search & Visualize\n",
    "search_results = catalog.search(search_paramaters=search_paramaters, as_dataframe=True)\n",
    "search_results[\"incidenceAngle\"] = search_results[\"providerProperties\"].apply(lambda x : x[\"incidenceAngle\"])\n",
    "display(search_results)\n",
    "catalog.plot_coverage(scenes=search_results, aoi=aoi)\n",
    "\n",
    "# Reduce columns & export\n",
    "df = search_results[[\"geometry\", \"id\", \"scene_id\", \"cloudCoverage\", \"blockNames\", \"incidenceAngle\"]]\n",
    "df[\"blockNames\"] = df[\"blockNames\"].to_string()\n",
    "df.to_file(driver=\"GeoJSON\", filename=outdir / \"search_results_limited_columns.geojson\")"
   ]
  },
  {
   "cell_type": "code",
   "execution_count": null,
   "metadata": {},
   "outputs": [],
   "source": [
    "# Quicklooks\n",
    "#catalog.download_quicklooks(image_ids=search_results[\"id\"].tolist(), provider=\"oneatlas\", output_directory=outdir / \"quicklooks\")\n",
    "#catalog.plot_quicklooks(figsize=(10,10))"
   ]
  },
  {
   "cell_type": "markdown",
   "metadata": {},
   "source": [
    "## Buffer by 10 meter, limit to aoi"
   ]
  },
  {
   "cell_type": "code",
   "execution_count": null,
   "metadata": {},
   "outputs": [],
   "source": [
    "# Clip to aoi\n",
    "clipped = gpd.clip(df, aoi.iloc[0].geometry)\n",
    "clipped.geometry = clipped.geometry.buffer(0)\n",
    "\n",
    "catalog.plot_coverage(scenes=clipped, aoi=aoi)\n",
    "\n",
    "clipped.to_file(driver=\"GeoJSON\", filename=outdir / \"clipped.geojson\")"
   ]
  },
  {
   "cell_type": "markdown",
   "metadata": {},
   "source": [
    "## Get best non-overlapping sections. Iteratively prioritizied by cloud cover & area"
   ]
  },
  {
   "cell_type": "code",
   "execution_count": null,
   "metadata": {},
   "outputs": [],
   "source": [
    "# Iteratively selected the next best scene and add to Dataframe. At each iteration the area criteria is recalculated, as it changes depending on the already\n",
    "# selected scenes. Often times a scene which has a big area within the aoi is actually not selected, as another scene which has a similar coverage made it\n",
    "# redundant.\n",
    "\n",
    "max_incidence_angle = 30\n",
    "\n",
    "clipped_filtered_angle = clipped.copy()\n",
    "clipped_filtered_angle = clipped_filtered_angle[clipped_filtered_angle.incidenceAngle < max_incidence_angle]\n",
    "\n",
    "full_coverage = get_best_sections_full_coverage(df=clipped_filtered_angle, order_by=[\"cloudCoverage\"], min_size_section_sqkm=0.5)\n",
    "\n",
    "display(full_coverage)\n",
    "up42.plot_coverage(full_coverage, aoi=aoi, figsize=(7,7))\n",
    "\n",
    "full_coverage.to_file(driver=\"GeoJSON\", filename=outdir / \"full_coverage.geojson\")\n",
    "\n",
    "# Buffer all sections by 10m (=5 Pixel 2m), so we ensure that all sections overlap later on (no segment line breaks).\n",
    "# Clip again to aoi to avoid unneccesary bigger aoi and complicated geometries\n",
    "full_coverage.geometry = full_coverage.geometry.apply(lambda poly: buffer_meter(poly=poly, distance=10, epsg_in=4326, \n",
    "                                                       use_centroid=False, \n",
    "                                                       lon=aoi.geometry.iloc[0].centroid.x, lat=aoi.geometry.iloc[0].centroid.x))\n",
    "full_coverage = gpd.clip(full_coverage, aoi.iloc[0].geometry)\n",
    "full_coverage.geometry = full_coverage.geometry.buffer(0)\n",
    "\n",
    "full_coverage.to_file(driver=\"GeoJSON\", filename=outdir / \"full_coverage_buffered.geojson\")"
   ]
  },
  {
   "cell_type": "code",
   "execution_count": null,
   "metadata": {},
   "outputs": [],
   "source": []
  },
  {
   "cell_type": "markdown",
   "metadata": {},
   "source": [
    "## Create & test workflow"
   ]
  },
  {
   "cell_type": "code",
   "execution_count": null,
   "metadata": {},
   "outputs": [],
   "source": [
    "#selected_blocks = [\"oneatlas-pleiades-aoiclipped\"]\n",
    "selected_blocks = [\"oneatlas-pleiades-fullscene\", \"pansharpen\"]"
   ]
  },
  {
   "cell_type": "code",
   "execution_count": null,
   "metadata": {},
   "outputs": [],
   "source": [
    "project = up42.initialize_project()\n",
    "workflow = project.create_workflow(\"mosaicing\", use_existing=True)\n",
    "\n",
    "blocks=up42.get_blocks(basic=True)\n",
    "workflow.add_workflow_tasks([blocks[selected] for selected in selected_blocks])"
   ]
  },
  {
   "cell_type": "code",
   "execution_count": null,
   "metadata": {},
   "outputs": [],
   "source": [
    "# Test workflow & availability of sections\n",
    "\n",
    "test_jobs = {}\n",
    "for idx, row in full_coverage.iterrows():\n",
    "\n",
    "    test_parameters = workflow.construct_parameters(geometry=row.geometry, \n",
    "                                               geometry_operation=\"intersects\", \n",
    "                                               scene_ids=[row[\"scene_id\"]])\n",
    "    #print(test_parameters)\n",
    "\n",
    "    test_job = workflow.create_and_run_job(test_parameters, test_query=True)\n",
    "    test_job.track_status(report_time=60)\n",
    "    \n",
    "    test_df = test_job.get_results_json(as_dataframe=True)\n",
    "    display(test_df)\n",
    "    \n",
    "    test_jobs[idx] = test_df\n",
    "    \n",
    "print(\"finished\")"
   ]
  },
  {
   "cell_type": "markdown",
   "metadata": {},
   "source": [
    "## Download sections"
   ]
  },
  {
   "cell_type": "code",
   "execution_count": null,
   "metadata": {},
   "outputs": [],
   "source": [
    "# Download the different sections for full coverage\n",
    "\n",
    "jobs = {}\n",
    "for idx, row in full_coverage.iterrows():\n",
    "\n",
    "    parameters = workflow.construct_parameters(geometry=row.geometry, \n",
    "                                               geometry_operation=\"intersects\", \n",
    "                                               scene_ids=[row[\"scene_id\"]])\n",
    "    print(parameters)\n",
    "\n",
    "    job = workflow.create_and_run_job(parameters)\n",
    "    job.track_status(report_time=60)\n",
    "    \n",
    "    out_filepaths = job.download_results(output_directory=outdir / \"sections\")\n",
    "    jobs[out_filepaths[0]] = job\n",
    "    \n",
    "print(\"finished\")"
   ]
  },
  {
   "cell_type": "code",
   "execution_count": null,
   "metadata": {},
   "outputs": [],
   "source": [
    "# Get order ids\n",
    "\n",
    "order_ids=[]\n",
    "if \"fullscene\" in selected_blocks[0]:\n",
    "    for _, job in jobs.items():\n",
    "        \n",
    "        data_jobtask = job.get_jobtasks()[0]\n",
    "        \n",
    "        order_id = data_jobtask.get_results_json()[\"features\"][0][\"orderID\"]\n",
    "        order_ids.append(order_id)\n",
    "        \n",
    "print(order_ids)"
   ]
  },
  {
   "cell_type": "markdown",
   "metadata": {},
   "source": [
    "## Mosaic sections"
   ]
  },
  {
   "cell_type": "code",
   "execution_count": null,
   "metadata": {},
   "outputs": [],
   "source": [
    "job_results = list(outdir.joinpath(\"sections\").glob(\"*.tif\"))\n",
    "job_results"
   ]
  },
  {
   "cell_type": "code",
   "execution_count": null,
   "metadata": {},
   "outputs": [],
   "source": [
    "src_files_to_mosaic = []\n",
    "for fp in job_results:\n",
    "    src = rasterio.open(fp)\n",
    "    src_files_to_mosaic.append(src)\n",
    "\n",
    "    out_profile = src.profile.copy() # bzw. src.meta\n",
    "print(src_files_to_mosaic)\n",
    "\n",
    "\n",
    "mosaic, out_transform = merge(src_files_to_mosaic)\n",
    "print(mosaic.shape)\n",
    "\n",
    "\n",
    "\n",
    "out_profile.update({\n",
    "    'height': mosaic.shape[1],\n",
    "    'width': mosaic.shape[2],\n",
    "    'transform': out_transform,\n",
    "    'blockxsize':256,\n",
    "    'blockysize':256,\n",
    "    'tiled' : True  # Important for definition block structure!  \n",
    "})\n",
    "\n",
    "out_path = outdir / \"mosaic/mosaic_pleiades_complex.tif\"\n",
    "# Write raster.\n",
    "with rasterio.open(out_path, 'w', **out_profile) as dst:\n",
    "        for i in range(mosaic.shape[0]):\n",
    "            dst.write(mosaic[i,...], i+1)"
   ]
  },
  {
   "cell_type": "code",
   "execution_count": null,
   "metadata": {},
   "outputs": [],
   "source": [
    "# Visualize mosaic\n",
    "\n",
    "fig, ax = plt.subplots(nrows=1, ncols=1, figsize=(12,12))\n",
    "\n",
    "show(out_path, ax=ax)\n",
    "plt.show()"
   ]
  },
  {
   "cell_type": "code",
   "execution_count": null,
   "metadata": {},
   "outputs": [],
   "source": []
  }
 ],
 "metadata": {
  "kernelspec": {
   "display_name": "up42-mosaicing",
   "language": "python",
   "name": "up42-mosaicing"
  },
  "language_info": {
   "codemirror_mode": {
    "name": "ipython",
    "version": 3
   },
   "file_extension": ".py",
   "mimetype": "text/x-python",
   "name": "python",
   "nbconvert_exporter": "python",
   "pygments_lexer": "ipython3",
   "version": "3.7.4"
  }
 },
 "nbformat": 4,
 "nbformat_minor": 4
}
